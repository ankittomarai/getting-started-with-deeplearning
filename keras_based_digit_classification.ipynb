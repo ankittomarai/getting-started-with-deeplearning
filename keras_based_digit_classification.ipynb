{
  "nbformat": 4,
  "nbformat_minor": 0,
  "metadata": {
    "colab": {
      "name": "keras_based_digit_classification.ipynb",
      "provenance": []
    },
    "kernelspec": {
      "name": "python3",
      "display_name": "Python 3"
    },
    "language_info": {
      "name": "python"
    }
  },
  "cells": [
    {
      "cell_type": "markdown",
      "metadata": {
        "id": "JHBMlJYHjewD"
      },
      "source": [
        "## Model \n",
        "This is part of my DL practice, I have worked on this model for keras basics. \n",
        "1. Sequential model with no hidden layer \n",
        "2. Sequential model with 2 hideen layers and 2 drop outs.\n"
      ]
    },
    {
      "cell_type": "code",
      "metadata": {
        "colab": {
          "base_uri": "https://localhost:8080/"
        },
        "id": "QWOxRnNFbO59",
        "outputId": "c04b58f6-57a2-4014-817c-a2f77c8e2472"
      },
      "source": [
        "# load the tensorflow here \n",
        "import tensorflow as tf\n",
        "\n",
        "print(\"TensorFlow Version...\", tf.__version__)\n",
        "\n",
        "from tensorflow import keras \n",
        "from tensorflow.keras.datasets import mnist\n",
        "from tensorflow.keras import  Sequential\n",
        "from tensorflow.keras.layers import Dense, Dropout\n",
        "from tensorflow.keras.optimizers import RMSprop"
      ],
      "execution_count": 9,
      "outputs": [
        {
          "output_type": "stream",
          "name": "stdout",
          "text": [
            "TensorFlow Version... 2.6.0\n"
          ]
        }
      ]
    },
    {
      "cell_type": "code",
      "metadata": {
        "id": "ttMVX6TZbWXw"
      },
      "source": [
        "# train dataset, test dataset \n",
        "(train_img, train_label), (test_img, test_label) = mnist.load_data() \n",
        "## we have loaded the dataset for the mnist "
      ],
      "execution_count": 24,
      "outputs": []
    },
    {
      "cell_type": "code",
      "metadata": {
        "colab": {
          "base_uri": "https://localhost:8080/"
        },
        "id": "KqiWwDgRbY4-",
        "outputId": "69c147d1-601e-409a-ef3b-48e240003945"
      },
      "source": [
        "# data processing \n",
        "# we are going to normalize the image data \n",
        "train_img = train_img.reshape(60000, 784)\n",
        "test_img = test_img.reshape(10000, 784)\n",
        "\n",
        "\n",
        "# let us change the datatye of the values \n",
        "train_img = train_img.astype('float32')\n",
        "test_img = test_img.astype('float32')\n",
        "\n",
        "# let us normalize \n",
        "train_img /= 255\n",
        "test_img /= 255\n",
        "\n",
        "print(\"cool we are done with data processing\")"
      ],
      "execution_count": 25,
      "outputs": [
        {
          "output_type": "stream",
          "name": "stdout",
          "text": [
            "cool we are done with data processing\n"
          ]
        }
      ]
    },
    {
      "cell_type": "code",
      "metadata": {
        "colab": {
          "base_uri": "https://localhost:8080/"
        },
        "id": "A25fumqTgq2W",
        "outputId": "db225bc0-c2d2-4097-d05a-6dd4eb9308f4"
      },
      "source": [
        "## we also need to work on our labels ,we have not captures the labels properly\n",
        "print(train_label[0])\n",
        "\n",
        "# we are going to do one  hot encoding\n",
        "\n",
        "train_label = keras.utils.to_categorical(train_label, 10)\n",
        "test_label =keras.utils.to_categorical(test_label, 10)"
      ],
      "execution_count": 26,
      "outputs": [
        {
          "output_type": "stream",
          "name": "stdout",
          "text": [
            "5\n"
          ]
        }
      ]
    },
    {
      "cell_type": "code",
      "metadata": {
        "id": "J8cw1SXabl9M"
      },
      "source": [
        "# define your model \n",
        "model = Sequential()\n",
        "model.add(Dense(512, activation='relu', input_shape = (784, ))) # because you have only one vector \n",
        "model.add(Dense(10, activation= 'softmax'))"
      ],
      "execution_count": 27,
      "outputs": []
    },
    {
      "cell_type": "code",
      "metadata": {
        "colab": {
          "base_uri": "https://localhost:8080/"
        },
        "id": "hKegW65gb96Z",
        "outputId": "0c9e5439-bf92-4350-c261-078ec3c73165"
      },
      "source": [
        "# let us check the summary of model \n",
        "model.summary()"
      ],
      "execution_count": 28,
      "outputs": [
        {
          "output_type": "stream",
          "name": "stdout",
          "text": [
            "Model: \"sequential_1\"\n",
            "_________________________________________________________________\n",
            "Layer (type)                 Output Shape              Param #   \n",
            "=================================================================\n",
            "dense_2 (Dense)              (None, 512)               401920    \n",
            "_________________________________________________________________\n",
            "dense_3 (Dense)              (None, 10)                5130      \n",
            "=================================================================\n",
            "Total params: 407,050\n",
            "Trainable params: 407,050\n",
            "Non-trainable params: 0\n",
            "_________________________________________________________________\n"
          ]
        }
      ]
    },
    {
      "cell_type": "code",
      "metadata": {
        "id": "cARVUQrSfa4q"
      },
      "source": [
        "## once you have define the model (model architecture), you need to compile \n",
        "model.compile(loss= \"categorical_crossentropy\",\n",
        "              optimizer = RMSprop(),\n",
        "              metrics = ['accuracy'])\n"
      ],
      "execution_count": 29,
      "outputs": []
    },
    {
      "cell_type": "code",
      "metadata": {
        "colab": {
          "base_uri": "https://localhost:8080/"
        },
        "id": "jSMh4UXrf4yW",
        "outputId": "143e05a4-02af-4dea-bb14-6403d6dcfcbe"
      },
      "source": [
        "## now we can train our model \n",
        "history = model.fit(train_img, train_label,\n",
        "                    batch_size = 100,\n",
        "                    epochs =10, \n",
        "                    verbose = 2,\n",
        "                    validation_data = (test_img, test_label))"
      ],
      "execution_count": 30,
      "outputs": [
        {
          "output_type": "stream",
          "name": "stdout",
          "text": [
            "Epoch 1/10\n",
            "600/600 - 5s - loss: 0.2426 - accuracy: 0.9286 - val_loss: 0.1362 - val_accuracy: 0.9601\n",
            "Epoch 2/10\n",
            "600/600 - 5s - loss: 0.0979 - accuracy: 0.9708 - val_loss: 0.0903 - val_accuracy: 0.9728\n",
            "Epoch 3/10\n",
            "600/600 - 5s - loss: 0.0654 - accuracy: 0.9802 - val_loss: 0.0793 - val_accuracy: 0.9756\n",
            "Epoch 4/10\n",
            "600/600 - 5s - loss: 0.0470 - accuracy: 0.9861 - val_loss: 0.0674 - val_accuracy: 0.9791\n",
            "Epoch 5/10\n",
            "600/600 - 5s - loss: 0.0355 - accuracy: 0.9890 - val_loss: 0.0734 - val_accuracy: 0.9793\n",
            "Epoch 6/10\n",
            "600/600 - 5s - loss: 0.0278 - accuracy: 0.9917 - val_loss: 0.0711 - val_accuracy: 0.9798\n",
            "Epoch 7/10\n",
            "600/600 - 5s - loss: 0.0213 - accuracy: 0.9937 - val_loss: 0.0691 - val_accuracy: 0.9806\n",
            "Epoch 8/10\n",
            "600/600 - 5s - loss: 0.0165 - accuracy: 0.9951 - val_loss: 0.0712 - val_accuracy: 0.9813\n",
            "Epoch 9/10\n",
            "600/600 - 5s - loss: 0.0126 - accuracy: 0.9960 - val_loss: 0.0739 - val_accuracy: 0.9814\n",
            "Epoch 10/10\n",
            "600/600 - 5s - loss: 0.0102 - accuracy: 0.9970 - val_loss: 0.0716 - val_accuracy: 0.9832\n"
          ]
        }
      ]
    },
    {
      "cell_type": "code",
      "metadata": {
        "id": "LTY1r8KMgXWY"
      },
      "source": [
        "# we are already getting scores on top but stills. lets get it properly ready for inference pipeline \n",
        "score = model.evaluate(test_img, test_label, verbose= 0)\n"
      ],
      "execution_count": 31,
      "outputs": []
    },
    {
      "cell_type": "code",
      "metadata": {
        "colab": {
          "base_uri": "https://localhost:8080/"
        },
        "id": "qhFfSrFfhwU7",
        "outputId": "53c4d127-f26c-4f72-b0bb-a677b7e0d716"
      },
      "source": [
        "print(\"Test data loss captured\", score[0])\n",
        "print(\"Test Data accuracy\", score[1])"
      ],
      "execution_count": 32,
      "outputs": [
        {
          "output_type": "stream",
          "name": "stdout",
          "text": [
            "Test data loss captured 0.07161187380552292\n",
            "Test Data accuracy 0.9832000136375427\n"
          ]
        }
      ]
    },
    {
      "cell_type": "code",
      "metadata": {
        "id": "VeHTL0Bnh6-2"
      },
      "source": [
        ""
      ],
      "execution_count": null,
      "outputs": []
    },
    {
      "cell_type": "code",
      "metadata": {
        "id": "3MvJs4Mph_gg"
      },
      "source": [
        "## let us improve the model by adding more layes and including reguralization with dropout "
      ],
      "execution_count": 33,
      "outputs": []
    },
    {
      "cell_type": "code",
      "metadata": {
        "id": "S2g78bREh_i2"
      },
      "source": [
        "model = Sequential()\n",
        "model.add(Dense(512, activation='relu', input_shape = (784, )))\n",
        "model.add(Dropout(0.25))\n",
        "model.add(Dense(512, activation= 'relu'))\n",
        "model.add(Dropout(0.4))\n",
        "model.add(Dense(10, activation='softmax'))"
      ],
      "execution_count": 34,
      "outputs": []
    },
    {
      "cell_type": "code",
      "metadata": {
        "id": "K5dYy5KNiiId"
      },
      "source": [
        "model.compile(loss=\"categorical_crossentropy\",\n",
        "              optimizer = RMSprop(),\n",
        "              metrics = ['accuracy'])"
      ],
      "execution_count": 35,
      "outputs": []
    },
    {
      "cell_type": "code",
      "metadata": {
        "colab": {
          "base_uri": "https://localhost:8080/"
        },
        "id": "lmdNSE7fiwDI",
        "outputId": "c36ae130-2777-4bcd-f695-48c040e5f881"
      },
      "source": [
        "history1  = model.fit(train_img, train_label, \n",
        "                      batch_size = 256,\n",
        "                      epochs = 5, \n",
        "                      verbose = 2, \n",
        "                      validation_data = (test_img, test_label))"
      ],
      "execution_count": 36,
      "outputs": [
        {
          "output_type": "stream",
          "name": "stdout",
          "text": [
            "Epoch 1/5\n",
            "235/235 - 7s - loss: 0.3155 - accuracy: 0.9028 - val_loss: 0.1563 - val_accuracy: 0.9505\n",
            "Epoch 2/5\n",
            "235/235 - 6s - loss: 0.1248 - accuracy: 0.9626 - val_loss: 0.0847 - val_accuracy: 0.9737\n",
            "Epoch 3/5\n",
            "235/235 - 6s - loss: 0.0875 - accuracy: 0.9734 - val_loss: 0.0882 - val_accuracy: 0.9732\n",
            "Epoch 4/5\n",
            "235/235 - 6s - loss: 0.0695 - accuracy: 0.9790 - val_loss: 0.0813 - val_accuracy: 0.9750\n",
            "Epoch 5/5\n",
            "235/235 - 6s - loss: 0.0576 - accuracy: 0.9827 - val_loss: 0.0687 - val_accuracy: 0.9804\n"
          ]
        }
      ]
    },
    {
      "cell_type": "code",
      "metadata": {
        "id": "sbsMKvz1jCuH"
      },
      "source": [
        "# let us get the socre out \n",
        "score = model.evaluate(test_img, test_label, verbose= 0)"
      ],
      "execution_count": 37,
      "outputs": []
    },
    {
      "cell_type": "code",
      "metadata": {
        "colab": {
          "base_uri": "https://localhost:8080/"
        },
        "id": "gHRc_3GnjR1M",
        "outputId": "40cb59b8-2e0b-42a2-dda5-c59baabe88ab"
      },
      "source": [
        "# let us get the scores right \n",
        "print(\"here is the test loss\", score[0])\n",
        "print(\"here is the accuracy\", score[1])"
      ],
      "execution_count": 38,
      "outputs": [
        {
          "output_type": "stream",
          "name": "stdout",
          "text": [
            "here is the test loss 0.06867527216672897\n",
            "here is the accuracy 0.980400025844574\n"
          ]
        }
      ]
    },
    {
      "cell_type": "code",
      "metadata": {
        "id": "A5u7qCULjdUy"
      },
      "source": [
        ""
      ],
      "execution_count": null,
      "outputs": []
    },
    {
      "cell_type": "code",
      "metadata": {
        "id": "M4tOAbTojbNK"
      },
      "source": [
        ""
      ],
      "execution_count": null,
      "outputs": []
    }
  ]
}